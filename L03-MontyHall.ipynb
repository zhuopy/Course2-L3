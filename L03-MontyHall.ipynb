{
 "cells": [
  {
   "cell_type": "markdown",
   "metadata": {},
   "source": [
    "# Lesson 3 Assignment - Monty Hall Simulation\n",
    "## Author - "
   ]
  },
  {
   "cell_type": "markdown",
   "metadata": {},
   "source": [
    "### Instructions\n",
    "Simulate the conditional probabilities of the distributions for winning a car vs. a goat for the Monty Hall Problem that includes the following:\n",
    "1. the cases for switching or not switching\n",
    "2. histograms and summary statistics (at least mean and variance) of the results for winning the car or a goat for both strategies: switching or not switching\n",
    "3. comparison of the cases to determine the best strategy\n",
    "4. recommended strategy\n",
    "\n"
   ]
  },
  {
   "cell_type": "markdown",
   "metadata": {},
   "source": [
    "#### Note: \n",
    "Please clearly outline the results and your recommendation with markdown text. Be sure your discussion includes narrative for your figures and tables so it is clear to the reader the importance of each bit of evidence."
   ]
  },
  {
   "cell_type": "code",
   "execution_count": 1,
   "metadata": {},
   "outputs": [],
   "source": [
    "# Import libraries\n",
    "from __future__ import division \n",
    "\n",
    "import numpy as np\n",
    "import pandas as pd\n",
    "import scipy\n",
    "import scipy.stats\n",
    "import matplotlib.pyplot as plt\n",
    "import seaborn as sns\n",
    "import random\n",
    "\n",
    "%matplotlib inline"
   ]
  },
  {
   "cell_type": "markdown",
   "metadata": {},
   "source": [
    "Monty Hall problem, three doors, one has car, other two have goat.\n",
    "\n",
    "Pick a door, one of the other two doors wiil be open by Monty.You can switch the door or not, rule is if you open car door, you win. \n",
    "\n",
    "For all calculation for winning means you open the car door!"
   ]
  },
  {
   "cell_type": "code",
   "execution_count": 2,
   "metadata": {},
   "outputs": [],
   "source": [
    "def door(switch):\n",
    "    \n",
    "    #car is located randomly in door 1, 2, 3\n",
    "    car_door = random.randint(1,3)\n",
    "    \n",
    "    #randomly pick a door\n",
    "    pick = random.randint(1,3)    \n",
    "    \n",
    "    #The case of switch door\n",
    "    if switch:\n",
    "        if pick != car_door:\n",
    "            # if initial pick is not the car door, Monty can only \n",
    "            # open the remained goat door, that means the switching\n",
    "            # to the car door is happening for sure.\n",
    "            new_pick = car_door\n",
    "        else:\n",
    "            # if initial pick is the car door, Monty can open one of two goat\n",
    "            # door, it's a random choice problem for picking one out of two \n",
    "            # goat door\n",
    "            lst = np.arange(1,4).tolist()\n",
    "            new =[i for i in lst if i is not pick]\n",
    "            new_pick = random.choice(new)\n",
    "            \n",
    "        result = (new_pick == car_door)\n",
    "        \n",
    "    else:\n",
    "        result = (pick == car_door)\n",
    "    \n",
    "    return result"
   ]
  },
  {
   "cell_type": "code",
   "execution_count": 3,
   "metadata": {},
   "outputs": [],
   "source": [
    "# run n times of the game 'door'\n",
    "def simulate(switch, n):\n",
    "    win = 0\n",
    "    for i in range(n):\n",
    "        if door(switch):\n",
    "            win +=1\n",
    "    #returning the total winning times out of n trials\n",
    "    return win"
   ]
  },
  {
   "cell_type": "code",
   "execution_count": 4,
   "metadata": {},
   "outputs": [
    {
     "data": {
      "text/html": [
       "<div>\n",
       "<style scoped>\n",
       "    .dataframe tbody tr th:only-of-type {\n",
       "        vertical-align: middle;\n",
       "    }\n",
       "\n",
       "    .dataframe tbody tr th {\n",
       "        vertical-align: top;\n",
       "    }\n",
       "\n",
       "    .dataframe thead th {\n",
       "        text-align: right;\n",
       "    }\n",
       "</style>\n",
       "<table border=\"1\" class=\"dataframe\">\n",
       "  <thead>\n",
       "    <tr style=\"text-align: right;\">\n",
       "      <th></th>\n",
       "      <th>Trials n</th>\n",
       "      <th>Winning Prob for switch</th>\n",
       "      <th>Winning Prob for not-switch</th>\n",
       "    </tr>\n",
       "  </thead>\n",
       "  <tbody>\n",
       "    <tr>\n",
       "      <th>0</th>\n",
       "      <td>1</td>\n",
       "      <td>1.00</td>\n",
       "      <td>1.00</td>\n",
       "    </tr>\n",
       "    <tr>\n",
       "      <th>1</th>\n",
       "      <td>5</td>\n",
       "      <td>0.80</td>\n",
       "      <td>0.60</td>\n",
       "    </tr>\n",
       "    <tr>\n",
       "      <th>2</th>\n",
       "      <td>10</td>\n",
       "      <td>0.60</td>\n",
       "      <td>0.50</td>\n",
       "    </tr>\n",
       "    <tr>\n",
       "      <th>3</th>\n",
       "      <td>15</td>\n",
       "      <td>0.60</td>\n",
       "      <td>0.33</td>\n",
       "    </tr>\n",
       "    <tr>\n",
       "      <th>4</th>\n",
       "      <td>20</td>\n",
       "      <td>0.70</td>\n",
       "      <td>0.20</td>\n",
       "    </tr>\n",
       "    <tr>\n",
       "      <th>5</th>\n",
       "      <td>30</td>\n",
       "      <td>0.70</td>\n",
       "      <td>0.17</td>\n",
       "    </tr>\n",
       "    <tr>\n",
       "      <th>6</th>\n",
       "      <td>40</td>\n",
       "      <td>0.65</td>\n",
       "      <td>0.28</td>\n",
       "    </tr>\n",
       "    <tr>\n",
       "      <th>7</th>\n",
       "      <td>50</td>\n",
       "      <td>0.72</td>\n",
       "      <td>0.40</td>\n",
       "    </tr>\n",
       "    <tr>\n",
       "      <th>8</th>\n",
       "      <td>60</td>\n",
       "      <td>0.63</td>\n",
       "      <td>0.35</td>\n",
       "    </tr>\n",
       "    <tr>\n",
       "      <th>9</th>\n",
       "      <td>70</td>\n",
       "      <td>0.64</td>\n",
       "      <td>0.39</td>\n",
       "    </tr>\n",
       "    <tr>\n",
       "      <th>10</th>\n",
       "      <td>80</td>\n",
       "      <td>0.72</td>\n",
       "      <td>0.35</td>\n",
       "    </tr>\n",
       "    <tr>\n",
       "      <th>11</th>\n",
       "      <td>100</td>\n",
       "      <td>0.71</td>\n",
       "      <td>0.38</td>\n",
       "    </tr>\n",
       "    <tr>\n",
       "      <th>12</th>\n",
       "      <td>300</td>\n",
       "      <td>0.63</td>\n",
       "      <td>0.33</td>\n",
       "    </tr>\n",
       "    <tr>\n",
       "      <th>13</th>\n",
       "      <td>500</td>\n",
       "      <td>0.69</td>\n",
       "      <td>0.32</td>\n",
       "    </tr>\n",
       "    <tr>\n",
       "      <th>14</th>\n",
       "      <td>700</td>\n",
       "      <td>0.66</td>\n",
       "      <td>0.38</td>\n",
       "    </tr>\n",
       "    <tr>\n",
       "      <th>15</th>\n",
       "      <td>1000</td>\n",
       "      <td>0.68</td>\n",
       "      <td>0.34</td>\n",
       "    </tr>\n",
       "  </tbody>\n",
       "</table>\n",
       "</div>"
      ],
      "text/plain": [
       "    Trials n  Winning Prob for switch  Winning Prob for not-switch\n",
       "0          1                     1.00                         1.00\n",
       "1          5                     0.80                         0.60\n",
       "2         10                     0.60                         0.50\n",
       "3         15                     0.60                         0.33\n",
       "4         20                     0.70                         0.20\n",
       "5         30                     0.70                         0.17\n",
       "6         40                     0.65                         0.28\n",
       "7         50                     0.72                         0.40\n",
       "8         60                     0.63                         0.35\n",
       "9         70                     0.64                         0.39\n",
       "10        80                     0.72                         0.35\n",
       "11       100                     0.71                         0.38\n",
       "12       300                     0.63                         0.33\n",
       "13       500                     0.69                         0.32\n",
       "14       700                     0.66                         0.38\n",
       "15      1000                     0.68                         0.34"
      ]
     },
     "execution_count": 4,
     "metadata": {},
     "output_type": "execute_result"
    }
   ],
   "source": [
    "#set up the number of trials\n",
    "n = [1,5,10,15,20,30,40,50,60,70,80,100,300,500,700,1000]\n",
    "df= pd.DataFrame()\n",
    "p_s =[]\n",
    "p_ns= []\n",
    "\n",
    "#loop through all trials, and calculate the winning probability \n",
    "for index, i in enumerate(n):\n",
    "    p_switch = simulate(True, i) / i\n",
    "    p_notswitch = simulate(False, i) / i\n",
    "    \n",
    "    p_s.append(p_switch)\n",
    "    p_ns.append(p_notswitch)\n",
    "    \n",
    "df['Trials n'] = n\n",
    "df['Winning Prob for switch'] = p_s\n",
    "df['Winning Prob for not-switch'] = p_ns\n",
    "df = df.round(2)\n",
    "df"
   ]
  },
  {
   "cell_type": "markdown",
   "metadata": {},
   "source": [
    "Table above shows winning probability for switching and not switching doors. Different trials have been performed from 1 to 1000. We can see that the winning probability for switch doors is approaching a theoretical value 2/3 (0.6667) when having more trials, while winning probability for not switch doors is approaching 1/3. Both observations agree with theoretical calculations."
   ]
  },
  {
   "cell_type": "code",
   "execution_count": 5,
   "metadata": {},
   "outputs": [
    {
     "data": {
      "image/png": "[encoded data removed]",
      "text/plain": [
       "<Figure size 432x288 with 1 Axes>"
      ]
     },
     "metadata": {
      "needs_background": "light"
     },
     "output_type": "display_data"
    }
   ],
   "source": [
    "#create a line plots for both switch and not switch probability in various numbers of trials\n",
    "plt.plot(df['Trials n'], df['Winning Prob for switch'], \n",
    "         marker = 'o',label='Switch')\n",
    "plt.plot(df['Trials n'], df['Winning Prob for not-switch'], \n",
    "         marker = '>', label='Not switch')\n",
    "plt.xlabel('Trials n')\n",
    "plt.ylabel('Winning probability')\n",
    "plt.title('Winning probability comparison for'\n",
    "          'switch and not-switch doors \\n'+\n",
    "          'for differnet number of trials')\n",
    "plt.legend();"
   ]
  },
  {
   "cell_type": "markdown",
   "metadata": {},
   "source": [
    "In this line plot, we can more clearly see that winning probability for both scenarios are fluctuating when number of trials is small (<100). However, both probability are steady when you have a large amount of trials.And the winning probability for switch doors is higher than not switch doors scenario."
   ]
  },
  {
   "cell_type": "markdown",
   "metadata": {},
   "source": [
    "Next, let's explore probability of winning bahaves if we repeat 1000 trials 300 times."
   ]
  },
  {
   "cell_type": "code",
   "execution_count": 6,
   "metadata": {},
   "outputs": [],
   "source": [
    "# Define a function that can repeat n trials k times\n",
    "def rep (k, n, switch):\n",
    "    l = []\n",
    "    for i in range(k):\n",
    "        w = simulate(switch,n)/n\n",
    "        l.append(w)\n",
    "    #return the list of winning probability for each repetition\n",
    "    return l"
   ]
  },
  {
   "cell_type": "code",
   "execution_count": 7,
   "metadata": {},
   "outputs": [],
   "source": [
    "#simulating switching cases, 300 repetions, 1000 trials each time\n",
    "sw_prob_rep = rep(300,1000, True)\n",
    "#simulating not switching cases,300 repetions, 1000 trials each time\n",
    "nsw_prob_rep = rep(300, 1000, False)"
   ]
  },
  {
   "cell_type": "code",
   "execution_count": 8,
   "metadata": {
    "scrolled": false
   },
   "outputs": [
    {
     "data": {
      "image/png": "[encoded data removed]",
      "text/plain": [
       "<Figure size 432x288 with 1 Axes>"
      ]
     },
     "metadata": {
      "needs_background": "light"
     },
     "output_type": "display_data"
    }
   ],
   "source": [
    "#create a histogram for both switch and not swich door cases for 300 repetitions\n",
    "plt.hist(sw_prob_rep, label = 'Switch')\n",
    "plt.hist(nsw_prob_rep, label ='Not switch')\n",
    "plt.xlabel('Winning probability')\n",
    "plt.ylabel('Counts')\n",
    "plt.title('Winning probability for switching and not switching doors \\n'+\n",
    "         'for 300 repetitions with 1000 trials each repetition')\n",
    "plt.legend();"
   ]
  },
  {
   "cell_type": "markdown",
   "metadata": {},
   "source": [
    "Two histograms are plotting in one figure. Both are 'bell' shape alike. Winnning probability for switch case is way higher than not switch case. The mean and variance of each distribution are calculated below."
   ]
  },
  {
   "cell_type": "code",
   "execution_count": 9,
   "metadata": {
    "scrolled": true
   },
   "outputs": [
    {
     "name": "stdout",
     "output_type": "stream",
     "text": [
      "For switching doors experiment in 300 repetitions,each repetition has 1000 trials, mean is 0.67, variance is 0.00.\n",
      "For NOT switching doors experiment in 300 repetitions,each repetition has 1000 trials, mean is 0.33, variance is 0.00.\n"
     ]
    }
   ],
   "source": [
    "m_sw=np.mean(sw_prob_rep)\n",
    "v_sw = np.var(sw_prob_rep)\n",
    "print('For switching doors experiment in 300 repetitions,'\n",
    "      'each repetition has 1000 trials, '\n",
    "      'mean is %.2f, variance is %.2f.' %(m_sw, v_sw))\n",
    "\n",
    "m_nsw=np.mean(nsw_prob_rep)\n",
    "v_nsw = np.var(nsw_prob_rep)\n",
    "print('For NOT switching doors experiment in 300 repetitions,'\n",
    "      'each repetition has 1000 trials, '\n",
    "      'mean is %.2f, variance is %.2f.' %(m_nsw, v_nsw))"
   ]
  },
  {
   "cell_type": "markdown",
   "metadata": {},
   "source": [
    "Statistics (mean and variance) have shown that the mean winning probability for switch door case is 0.67, with negligible variance, and the mean winning probability for NOT switch door case is 0.33, with negligible variance.\n",
    "These values agree with theoretical calculations that in switch door cases, winning probability is 2/3 while in not switch door cases, winnning probability is 1/3."
   ]
  },
  {
   "cell_type": "markdown",
   "metadata": {},
   "source": [
    "Summary：\n",
    "\n",
    "From both histogram and statistics, we can learn that winning proabbilty (0.67) is higher when switching doors compared to not switching doors (0.33). So in this game, switching door is recommended. "
   ]
  }
 ],
 "metadata": {
  "kernelspec": {
   "display_name": "Python 3",
   "language": "python",
   "name": "python3"
  },
  "language_info": {
   "codemirror_mode": {
    "name": "ipython",
    "version": 3
   },
   "file_extension": ".py",
   "mimetype": "text/x-python",
   "name": "python",
   "nbconvert_exporter": "python",
   "pygments_lexer": "ipython3",
   "version": "3.7.6"
  }
 },
 "nbformat": 4,
 "nbformat_minor": 2
}
